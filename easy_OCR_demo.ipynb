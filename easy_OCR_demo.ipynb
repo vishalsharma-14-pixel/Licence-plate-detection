{
  "cells": [
    {
      "cell_type": "code",
      "execution_count": 24,
      "metadata": {
        "colab": {
          "base_uri": "https://localhost:8080/"
        },
        "id": "hD8TRh0rCSmO",
        "outputId": "c60b9fe5-37e5-4833-fbcc-248ceb569807"
      },
      "outputs": [
        {
          "name": "stdout",
          "output_type": "stream",
          "text": [
            "Requirement already satisfied: easyocr in c:\\users\\visha\\appdata\\local\\programs\\python\\python313\\lib\\site-packages (1.7.2)\n",
            "Requirement already satisfied: torch in c:\\users\\visha\\appdata\\local\\programs\\python\\python313\\lib\\site-packages (from easyocr) (2.7.1)\n",
            "Requirement already satisfied: torchvision>=0.5 in c:\\users\\visha\\appdata\\local\\programs\\python\\python313\\lib\\site-packages (from easyocr) (0.22.1)\n",
            "Requirement already satisfied: opencv-python-headless in c:\\users\\visha\\appdata\\local\\programs\\python\\python313\\lib\\site-packages (from easyocr) (4.11.0.86)\n",
            "Requirement already satisfied: scipy in c:\\users\\visha\\appdata\\local\\programs\\python\\python313\\lib\\site-packages (from easyocr) (1.16.0)\n",
            "Requirement already satisfied: numpy in c:\\users\\visha\\appdata\\local\\programs\\python\\python313\\lib\\site-packages (from easyocr) (2.3.1)\n",
            "Requirement already satisfied: Pillow in c:\\users\\visha\\appdata\\local\\programs\\python\\python313\\lib\\site-packages (from easyocr) (11.2.1)\n",
            "Requirement already satisfied: scikit-image in c:\\users\\visha\\appdata\\local\\programs\\python\\python313\\lib\\site-packages (from easyocr) (0.25.2)\n",
            "Requirement already satisfied: python-bidi in c:\\users\\visha\\appdata\\local\\programs\\python\\python313\\lib\\site-packages (from easyocr) (0.6.6)\n",
            "Requirement already satisfied: PyYAML in c:\\users\\visha\\appdata\\local\\programs\\python\\python313\\lib\\site-packages (from easyocr) (6.0.2)\n",
            "Requirement already satisfied: Shapely in c:\\users\\visha\\appdata\\local\\programs\\python\\python313\\lib\\site-packages (from easyocr) (2.1.1)\n",
            "Requirement already satisfied: pyclipper in c:\\users\\visha\\appdata\\local\\programs\\python\\python313\\lib\\site-packages (from easyocr) (1.3.0.post6)\n",
            "Requirement already satisfied: ninja in c:\\users\\visha\\appdata\\local\\programs\\python\\python313\\lib\\site-packages (from easyocr) (1.11.1.4)\n",
            "Requirement already satisfied: filelock in c:\\users\\visha\\appdata\\local\\programs\\python\\python313\\lib\\site-packages (from torch->easyocr) (3.18.0)\n",
            "Requirement already satisfied: typing-extensions>=4.10.0 in c:\\users\\visha\\appdata\\local\\programs\\python\\python313\\lib\\site-packages (from torch->easyocr) (4.14.0)\n",
            "Requirement already satisfied: sympy>=1.13.3 in c:\\users\\visha\\appdata\\local\\programs\\python\\python313\\lib\\site-packages (from torch->easyocr) (1.14.0)\n",
            "Requirement already satisfied: networkx in c:\\users\\visha\\appdata\\local\\programs\\python\\python313\\lib\\site-packages (from torch->easyocr) (3.5)\n",
            "Requirement already satisfied: jinja2 in c:\\users\\visha\\appdata\\local\\programs\\python\\python313\\lib\\site-packages (from torch->easyocr) (3.1.6)\n",
            "Requirement already satisfied: fsspec in c:\\users\\visha\\appdata\\local\\programs\\python\\python313\\lib\\site-packages (from torch->easyocr) (2025.5.1)\n",
            "Requirement already satisfied: setuptools in c:\\users\\visha\\appdata\\local\\programs\\python\\python313\\lib\\site-packages (from torch->easyocr) (80.9.0)\n",
            "Requirement already satisfied: mpmath<1.4,>=1.1.0 in c:\\users\\visha\\appdata\\local\\programs\\python\\python313\\lib\\site-packages (from sympy>=1.13.3->torch->easyocr) (1.3.0)\n",
            "Requirement already satisfied: MarkupSafe>=2.0 in c:\\users\\visha\\appdata\\local\\programs\\python\\python313\\lib\\site-packages (from jinja2->torch->easyocr) (3.0.2)\n",
            "Requirement already satisfied: imageio!=2.35.0,>=2.33 in c:\\users\\visha\\appdata\\local\\programs\\python\\python313\\lib\\site-packages (from scikit-image->easyocr) (2.37.0)\n",
            "Requirement already satisfied: tifffile>=2022.8.12 in c:\\users\\visha\\appdata\\local\\programs\\python\\python313\\lib\\site-packages (from scikit-image->easyocr) (2025.6.11)\n",
            "Requirement already satisfied: packaging>=21 in c:\\users\\visha\\appdata\\roaming\\python\\python313\\site-packages (from scikit-image->easyocr) (25.0)\n",
            "Requirement already satisfied: lazy-loader>=0.4 in c:\\users\\visha\\appdata\\local\\programs\\python\\python313\\lib\\site-packages (from scikit-image->easyocr) (0.4)\n",
            "Note: you may need to restart the kernel to use updated packages.\n"
          ]
        }
      ],
      "source": [
        "%pip install easyocr"
      ]
    },
    {
      "cell_type": "code",
      "execution_count": 2,
      "metadata": {
        "id": "6wKgPU52CZ6K"
      },
      "outputs": [],
      "source": [
        "import matplotlib.pyplot as plt\n",
        "import cv2\n",
        "import easyocr\n",
        "from IPython.display import Image"
      ]
    },
    {
      "cell_type": "code",
      "execution_count": 4,
      "metadata": {
        "colab": {
          "base_uri": "https://localhost:8080/",
          "height": 65
        },
        "id": "hxBLiy0AChPp",
        "outputId": "6f8e0eb9-eeaf-4561-dd16-50689139a125"
      },
      "outputs": [
        {
          "name": "stderr",
          "output_type": "stream",
          "text": [
            "<>:1: SyntaxWarning: invalid escape sequence '\\p'\n",
            "<>:1: SyntaxWarning: invalid escape sequence '\\p'\n",
            "C:\\Users\\visha\\AppData\\Local\\Temp\\ipykernel_4236\\3857751032.py:1: SyntaxWarning: invalid escape sequence '\\p'\n",
            "  Image(\"D:\\projects\\Car-Number-Plates-Detection-main (2)\\Car-Number-Plates-Detection-main\\content\\scaned_img_0.jpg\")\n"
          ]
        },
        {
          "data": {
            "image/jpeg": "[encoded data removed]",
            "text/plain": [
              "<IPython.core.display.Image object>"
            ]
          },
          "execution_count": 4,
          "metadata": {},
          "output_type": "execute_result"
        }
      ],
      "source": [
        "Image(\"D:\\projects\\Car-Number-Plates-Detection-main (2)\\Car-Number-Plates-Detection-main\\content\\scaned_img_0.jpg\")"
      ]
    },
    {
      "cell_type": "code",
      "execution_count": 5,
      "metadata": {
        "colab": {
          "base_uri": "https://localhost:8080/"
        },
        "id": "ZYD5fu4NCq2U",
        "outputId": "8a9390ef-9bad-443f-88d8-48411a496fc6"
      },
      "outputs": [
        {
          "name": "stderr",
          "output_type": "stream",
          "text": [
            "Neither CUDA nor MPS are available - defaulting to CPU. Note: This module is much faster with a GPU.\n"
          ]
        }
      ],
      "source": [
        "\n",
        "reader = easyocr.Reader(['en'])"
      ]
    },
    {
      "cell_type": "code",
      "execution_count": 6,
      "metadata": {
        "id": "ZCHP-450Cl9x"
      },
      "outputs": [
        {
          "name": "stderr",
          "output_type": "stream",
          "text": [
            "<>:1: SyntaxWarning: invalid escape sequence '\\p'\n",
            "<>:1: SyntaxWarning: invalid escape sequence '\\p'\n",
            "C:\\Users\\visha\\AppData\\Local\\Temp\\ipykernel_4236\\2240897357.py:1: SyntaxWarning: invalid escape sequence '\\p'\n",
            "  output = reader.readtext('D:\\projects\\Car-Number-Plates-Detection-main (2)\\Car-Number-Plates-Detection-main\\content\\scaned_img_0.jpg')\n",
            "c:\\Users\\visha\\AppData\\Local\\Programs\\Python\\Python313\\Lib\\site-packages\\torch\\utils\\data\\dataloader.py:665: UserWarning: 'pin_memory' argument is set as true but no accelerator is found, then device pinned memory won't be used.\n",
            "  warnings.warn(warn_msg)\n"
          ]
        }
      ],
      "source": [
        "\n",
        "output = reader.readtext('D:\\projects\\Car-Number-Plates-Detection-main (2)\\Car-Number-Plates-Detection-main\\content\\scaned_img_0.jpg')"
      ]
    },
    {
      "cell_type": "code",
      "execution_count": 7,
      "metadata": {
        "colab": {
          "base_uri": "https://localhost:8080/"
        },
        "id": "Ao44WMNJC_4R",
        "outputId": "4f9bc326-5f01-4871-9388-86c3726df528"
      },
      "outputs": [
        {
          "data": {
            "text/plain": [
              "[([[np.int32(16), np.int32(12)],\n",
              "   [np.int32(112), np.int32(12)],\n",
              "   [np.int32(112), np.int32(36)],\n",
              "   [np.int32(16), np.int32(36)]],\n",
              "  'HY7O BMW',\n",
              "  np.float64(0.188936846056334))]"
            ]
          },
          "execution_count": 7,
          "metadata": {},
          "output_type": "execute_result"
        }
      ],
      "source": [
        "output"
      ]
    },
    {
      "cell_type": "code",
      "execution_count": 8,
      "metadata": {
        "id": "SW8P4tA2DHKh"
      },
      "outputs": [],
      "source": [
        "cord = output[-1][0]"
      ]
    },
    {
      "cell_type": "code",
      "execution_count": 9,
      "metadata": {
        "colab": {
          "base_uri": "https://localhost:8080/"
        },
        "id": "Vj08hYknEXnE",
        "outputId": "61c8259b-2140-49d4-95f1-0f24ea43e5ec"
      },
      "outputs": [
        {
          "data": {
            "text/plain": [
              "[[np.int32(16), np.int32(12)],\n",
              " [np.int32(112), np.int32(12)],\n",
              " [np.int32(112), np.int32(36)],\n",
              " [np.int32(16), np.int32(36)]]"
            ]
          },
          "execution_count": 9,
          "metadata": {},
          "output_type": "execute_result"
        }
      ],
      "source": [
        "cord"
      ]
    },
    {
      "cell_type": "code",
      "execution_count": 10,
      "metadata": {
        "colab": {
          "base_uri": "https://localhost:8080/"
        },
        "id": "3nXoyWdoEc2i",
        "outputId": "71c34b51-6ea6-4274-b6e8-e731cfe78afb"
      },
      "outputs": [
        {
          "data": {
            "text/plain": [
              "[(np.int32(16), np.int32(112), np.int32(112), np.int32(16)),\n",
              " (np.int32(12), np.int32(12), np.int32(36), np.int32(36))]"
            ]
          },
          "execution_count": 10,
          "metadata": {},
          "output_type": "execute_result"
        }
      ],
      "source": [
        "a = list(zip(*cord))\n",
        "a"
      ]
    },
    {
      "cell_type": "code",
      "execution_count": 11,
      "metadata": {
        "colab": {
          "base_uri": "https://localhost:8080/"
        },
        "id": "-Talju53ExKb",
        "outputId": "678b4ff1-531c-46d6-ec2e-e6b209d0dc8e"
      },
      "outputs": [
        {
          "data": {
            "text/plain": [
              "np.int32(16)"
            ]
          },
          "execution_count": 11,
          "metadata": {},
          "output_type": "execute_result"
        }
      ],
      "source": [
        "min(a[0])"
      ]
    },
    {
      "cell_type": "code",
      "execution_count": 12,
      "metadata": {
        "colab": {
          "base_uri": "https://localhost:8080/"
        },
        "id": "sfDxg7_RE_PE",
        "outputId": "a71e2913-4f3a-40e4-bddc-fda5b0a15fe6"
      },
      "outputs": [
        {
          "data": {
            "text/plain": [
              "np.int32(12)"
            ]
          },
          "execution_count": 12,
          "metadata": {},
          "output_type": "execute_result"
        }
      ],
      "source": [
        "min(a[1])"
      ]
    },
    {
      "cell_type": "code",
      "execution_count": 13,
      "metadata": {
        "colab": {
          "base_uri": "https://localhost:8080/"
        },
        "id": "3SNxkER_FlKN",
        "outputId": "07c72bee-cd08-4f38-919f-8adc8866144e"
      },
      "outputs": [
        {
          "data": {
            "text/plain": [
              "np.int32(112)"
            ]
          },
          "execution_count": 13,
          "metadata": {},
          "output_type": "execute_result"
        }
      ],
      "source": [
        "max(a[0])"
      ]
    },
    {
      "cell_type": "code",
      "execution_count": 14,
      "metadata": {
        "colab": {
          "base_uri": "https://localhost:8080/"
        },
        "id": "Ra4nrXngFlM7",
        "outputId": "0c586331-1fc5-4b8b-a248-82b43ccdd837"
      },
      "outputs": [
        {
          "data": {
            "text/plain": [
              "np.int32(36)"
            ]
          },
          "execution_count": 14,
          "metadata": {},
          "output_type": "execute_result"
        }
      ],
      "source": [
        "max(a[1])"
      ]
    },
    {
      "cell_type": "code",
      "execution_count": 15,
      "metadata": {
        "id": "7zwP5q_zDKuh"
      },
      "outputs": [],
      "source": [
        "\n",
        "x_min, y_min = [int(min(idx)) for idx in zip(*cord)]"
      ]
    },
    {
      "cell_type": "code",
      "execution_count": 16,
      "metadata": {
        "colab": {
          "base_uri": "https://localhost:8080/"
        },
        "id": "RlZab6VGFWgz",
        "outputId": "53556660-74a8-4c92-966b-f63dba82ef41"
      },
      "outputs": [
        {
          "data": {
            "text/plain": [
              "(16, 12)"
            ]
          },
          "execution_count": 16,
          "metadata": {},
          "output_type": "execute_result"
        }
      ],
      "source": [
        "x_min, y_min"
      ]
    },
    {
      "cell_type": "code",
      "execution_count": 17,
      "metadata": {
        "id": "XSPxi2_RDMXJ"
      },
      "outputs": [],
      "source": [
        "\n",
        "x_max, y_max = [int(max(idx)) for idx in zip(*cord)]"
      ]
    },
    {
      "cell_type": "code",
      "execution_count": 18,
      "metadata": {
        "colab": {
          "base_uri": "https://localhost:8080/"
        },
        "id": "HPJwuE3-FgNk",
        "outputId": "0b7e84f1-177d-4a91-a5e7-bb83df9dbbb6"
      },
      "outputs": [
        {
          "data": {
            "text/plain": [
              "(112, 36)"
            ]
          },
          "execution_count": 18,
          "metadata": {},
          "output_type": "execute_result"
        }
      ],
      "source": [
        "x_max, y_max"
      ]
    },
    {
      "cell_type": "code",
      "execution_count": 19,
      "metadata": {
        "id": "NNGr7AzoD3xK"
      },
      "outputs": [],
      "source": [
        "from pylab import rcParams\n",
        "rcParams['figure.figsize'] = 20, 30"
      ]
    },
    {
      "cell_type": "code",
      "execution_count": 21,
      "metadata": {
        "colab": {
          "base_uri": "https://localhost:8080/",
          "height": 825
        },
        "id": "DSxNIGFGDNga",
        "outputId": "ed0de668-4fb3-4b71-af56-2942a58d15f0"
      },
      "outputs": [
        {
          "name": "stderr",
          "output_type": "stream",
          "text": [
            "<>:1: SyntaxWarning: invalid escape sequence '\\p'\n",
            "<>:1: SyntaxWarning: invalid escape sequence '\\p'\n",
            "C:\\Users\\visha\\AppData\\Local\\Temp\\ipykernel_4236\\1361289913.py:1: SyntaxWarning: invalid escape sequence '\\p'\n",
            "  image = cv2.imread('D:\\projects\\Car-Number-Plates-Detection-main (2)\\Car-Number-Plates-Detection-main\\content\\scaned_img_0.jpg')\n"
          ]
        },
        {
          "data": {
            "text/plain": [
              "<matplotlib.image.AxesImage at 0x219b88a42f0>"
            ]
          },
          "execution_count": 21,
          "metadata": {},
          "output_type": "execute_result"
        },
        {
          "data": {
            "image/png": "[encoded data removed]",
            "text/plain": [
              "<Figure size 2000x3000 with 1 Axes>"
            ]
          },
          "metadata": {},
          "output_type": "display_data"
        }
      ],
      "source": [
        "image = cv2.imread('D:\\projects\\Car-Number-Plates-Detection-main (2)\\Car-Number-Plates-Detection-main\\content\\scaned_img_0.jpg')\n",
        "cv2.rectangle(image,(x_min,y_min),(x_max,y_max),(0,0,255),2)\n",
        "plt.imshow(cv2.cvtColor(image, cv2.COLOR_BGR2RGB))"
      ]
    },
    {
      "cell_type": "code",
      "execution_count": null,
      "metadata": {
        "id": "4x7HEJ-dHzRp"
      },
      "outputs": [],
      "source": []
    }
  ],
  "metadata": {
    "accelerator": "GPU",
    "colab": {
      "provenance": []
    },
    "kernelspec": {
      "display_name": "Python 3",
      "name": "python3"
    },
    "language_info": {
      "codemirror_mode": {
        "name": "ipython",
        "version": 3
      },
      "file_extension": ".py",
      "mimetype": "text/x-python",
      "name": "python",
      "nbconvert_exporter": "python",
      "pygments_lexer": "ipython3",
      "version": "3.13.5"
    }
  },
  "nbformat": 4,
  "nbformat_minor": 0
}
